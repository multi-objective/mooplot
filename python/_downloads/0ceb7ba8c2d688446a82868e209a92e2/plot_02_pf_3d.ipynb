{
  "cells": [
    {
      "cell_type": "markdown",
      "metadata": {},
      "source": [
        "\n# Plotting Pareto fronts in 3D\n\nVarious examples using :func:`mooplot.plot_pf`.\n"
      ]
    },
    {
      "cell_type": "code",
      "execution_count": null,
      "metadata": {
        "collapsed": false
      },
      "outputs": [],
      "source": [
        "import moocore\nimport mooplot"
      ]
    },
    {
      "cell_type": "markdown",
      "metadata": {},
      "source": [
        "## Points\n\n\n"
      ]
    },
    {
      "cell_type": "code",
      "execution_count": null,
      "metadata": {
        "collapsed": false
      },
      "outputs": [],
      "source": [
        "data = moocore.get_dataset(\"spherical-250-10-3d.txt\")\n# Select only the last 3 datasets\ndata = data[data[:, -1] >= 8, :]\nfig = mooplot.plot_pf(data, title=\"Spherical\")\nfig"
      ]
    },
    {
      "cell_type": "markdown",
      "metadata": {},
      "source": [
        "## Three objective surface\n\nUse the `type=\"surface\"` argument to draw a smooth 3D surface for each\ndataset.\n\n"
      ]
    },
    {
      "cell_type": "code",
      "execution_count": null,
      "metadata": {
        "collapsed": false
      },
      "outputs": [],
      "source": [
        "fig = mooplot.plot_pf(data, type=\"surface\")\nfig"
      ]
    },
    {
      "cell_type": "markdown",
      "metadata": {},
      "source": [
        "## Three objective surface+points\n\nUse `type=\"surface, points\"` to add both points and surfaces to the plot. You\ncan compare the surface of one dataset to the points of another by clicking\non \"set 1\" and \"set 2 points\" in the legend to hide some of the points and\nsurfaces.\n\n"
      ]
    },
    {
      "cell_type": "code",
      "execution_count": null,
      "metadata": {
        "collapsed": false
      },
      "outputs": [],
      "source": [
        "data = moocore.get_dataset(\"uniform-250-10-3d.txt\")\ndata = data[data[:, -1] >= 8, :]\nfig = mooplot.plot_pf(data, type=\"surface, points\", title=\"Uniform\")\nfig"
      ]
    },
    {
      "cell_type": "markdown",
      "metadata": {},
      "source": [
        "## Three objective cube graph\n\nUse `type=\"cube\"` to add a cuboid for each point.\n\n<div class=\"alert alert-danger\"><h4>Warning</h4><p>This may be slow in large datasets.</p></div>\n\n\n"
      ]
    },
    {
      "cell_type": "code",
      "execution_count": null,
      "metadata": {
        "collapsed": false
      },
      "outputs": [],
      "source": [
        "fig = mooplot.plot_pf(data, type=\"cube\")\nfig"
      ]
    }
  ],
  "metadata": {
    "kernelspec": {
      "display_name": "Python 3",
      "language": "python",
      "name": "python3"
    },
    "language_info": {
      "codemirror_mode": {
        "name": "ipython",
        "version": 3
      },
      "file_extension": ".py",
      "mimetype": "text/x-python",
      "name": "python",
      "nbconvert_exporter": "python",
      "pygments_lexer": "ipython3",
      "version": "3.10.16"
    }
  },
  "nbformat": 4,
  "nbformat_minor": 0
}